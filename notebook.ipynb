{
 "cells": [
  {
   "cell_type": "code",
   "execution_count": null,
   "id": "8501c471",
   "metadata": {},
   "outputs": [],
   "source": [
    "# Analisis Proyek Akhir Dicoding\n",
    "# Menggunakan 3 Dataset: Air Quality, Bike Sharing, E-Commerce\n",
    "\n",
    "import pandas as pd\n",
    "import matplotlib.pyplot as plt\n",
    "import seaborn as sns\n",
    "\n",
    "# === 1. BIKE SHARING DATASET ===\n",
    "bike = pd.read_csv(\"data/data_2.csv\")\n",
    "plt.figure(figsize=(6,4))\n",
    "sns.barplot(data=bike, x=\"season\", y=\"avg_rental_count\", palette=\"Blues\")\n",
    "plt.title(\"Rata-rata Jumlah Peminjaman Sepeda per Musim\")\n",
    "plt.xlabel(\"Musim (1=Semi, 2=Panas, 3=Gugur, 4=Dingin)\")\n",
    "plt.ylabel(\"Jumlah Rata-rata\")\n",
    "plt.tight_layout()\n",
    "plt.show()\n",
    "\n",
    "# === 2. AIR QUALITY DATASET ===\n",
    "air = pd.read_csv(\"data/data_1.csv\")\n",
    "plt.figure(figsize=(6,4))\n",
    "sns.lineplot(data=air, x=\"year\", y=\"avg_pm25_dongsi\", marker=\"o\", color=\"red\")\n",
    "plt.title(\"Tren PM2.5 Tahunan di Stasiun Dongsi\")\n",
    "plt.xlabel(\"Tahun\")\n",
    "plt.ylabel(\"PM2.5 (μg/m³)\")\n",
    "plt.grid(True)\n",
    "plt.tight_layout()\n",
    "plt.show()\n",
    "\n",
    "# === 3. E-COMMERCE DATASET ===\n",
    "ecom = pd.read_csv(\"dashboard/main_data.csv\")\n",
    "plt.figure(figsize=(8,5))\n",
    "sns.barplot(data=ecom, x=\"customer_city\", y=\"total_orders\", palette=\"viridis\")\n",
    "plt.title(\"10 Kota dengan Jumlah Pesanan Terbanyak\")\n",
    "plt.xlabel(\"Kota\")\n",
    "plt.ylabel(\"Jumlah Pesanan\")\n",
    "plt.xticks(rotation=45)\n",
    "plt.tight_layout()\n",
    "plt.show()\n",
    "\n",
    "# === Kesimpulan ===\n",
    "print(\"\\n--- Insight Utama ---\")\n",
    "print(\"1. Kota Jakarta memiliki jumlah pesanan dan transaksi tertinggi pada data E-Commerce.\")\n",
    "print(\"2. Musim panas memiliki tingkat peminjaman sepeda tertinggi.\")\n",
    "print(\"3. PM8 di Stasiun Dongsi menunjukkan penurunan dari 2013–2017.\")"
   ]
  }
 ],
 "metadata": {
  "language_info": {
   "name": "python"
  }
 },
 "nbformat": 4,
 "nbformat_minor": 5
}
